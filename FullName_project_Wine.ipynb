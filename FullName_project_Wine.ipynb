{
 "cells": [
  {
   "cell_type": "markdown",
   "metadata": {},
   "source": [
    "<a href=\"https://archive.ics.uci.edu/ml/datasets/wine+quality\"><img src=\"https://archive.ics.uci.edu/ml/assets/logo.gif\" width=\"400\" align=\"center\"></a>\n",
    "\n",
    "<h1 align=\"center\"><font size=\"5\">Project: Wine Quality</font></h1>\n",
    "<h2 align=\"center\"><font size=\"5\">Deadline: 2019-08-25 23:59:59</font></h2>\n",
    "<h3 align=\"center\"><font size=\"5\"> Total marks: 3.0</font></h3>"
   ]
  },
  {
   "cell_type": "markdown",
   "metadata": {},
   "source": [
    "### Your information:\n",
    "- Fullname:\n",
    "- Date of birth:\n",
    "- Place of birth:\n",
    "- Email:\n",
    "- Mobile phone:"
   ]
  },
  {
   "cell_type": "markdown",
   "metadata": {},
   "source": [
    "In this notebook, we practice all the knowledge and skills that we learned in this course.\n",
    "\n",
    "We apply the **Linear Algorithm** to predict: \"wine quality\" by accuracy evaluation methods."
   ]
  },
  {
   "cell_type": "markdown",
   "metadata": {},
   "source": [
    "Please read [Wine Quality information](https://archive.ics.uci.edu/ml/datasets/wine+quality) carefully before you do this project! "
   ]
  },
  {
   "cell_type": "markdown",
   "metadata": {},
   "source": [
    "### Requirements:"
   ]
  },
  {
   "cell_type": "markdown",
   "metadata": {},
   "source": [
    "- Data exploration\n",
    "- Data visualization\n",
    "- Pre-processing: Feature selection/extraction\n",
    "- Regression\n",
    "    - Linear Regression\n",
    "    - Model Evaluation using Test set\n",
    "    - Report"
   ]
  },
  {
   "cell_type": "code",
   "execution_count": null,
   "metadata": {},
   "outputs": [],
   "source": []
  }
 ],
 "metadata": {
  "kernelspec": {
   "display_name": "Python 3",
   "language": "python",
   "name": "python3"
  },
  "language_info": {
   "codemirror_mode": {
    "name": "ipython",
    "version": 3
   },
   "file_extension": ".py",
   "mimetype": "text/x-python",
   "name": "python",
   "nbconvert_exporter": "python",
   "pygments_lexer": "ipython3",
   "version": "3.6.8"
  }
 },
 "nbformat": 4,
 "nbformat_minor": 2
}
